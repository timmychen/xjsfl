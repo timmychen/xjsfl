{
  "nbformat": 4,
  "nbformat_minor": 0,
  "metadata": {
    "colab": {
      "name": "ggzero.ipynb",
      "provenance": [],
      "authorship_tag": "ABX9TyNcwnfzlm1sUXM6O8/KHlag",
      "include_colab_link": true
    },
    "kernelspec": {
      "name": "python3",
      "display_name": "Python 3"
    }
  },
  "cells": [
    {
      "cell_type": "markdown",
      "metadata": {
        "id": "view-in-github",
        "colab_type": "text"
      },
      "source": [
        "<a href=\"https://colab.research.google.com/github/timmychen/xjsfl/blob/master/ggzero.ipynb\" target=\"_parent\"><img src=\"https://colab.research.google.com/assets/colab-badge.svg\" alt=\"Open In Colab\"/></a>"
      ]
    },
    {
      "cell_type": "code",
      "metadata": {
        "id": "bAQDHehn00Cc",
        "colab_type": "code",
        "outputId": "b4eada1c-a37b-4b71-ea37-2d105d190f68",
        "colab": {
          "base_uri": "https://localhost:8080/",
          "height": 221
        }
      },
      "source": [
        "!wget -c https://github.com/leedavid/leela-chess-to-Chinese-Chess/raw/master/lc0/ggzero"
      ],
      "execution_count": 4,
      "outputs": [
        {
          "output_type": "stream",
          "text": [
            "--2020-04-29 07:34:41--  https://github.com/leedavid/leela-chess-to-Chinese-Chess/raw/master/lc0/ggzero\n",
            "Resolving github.com (github.com)... 140.82.118.4\n",
            "Connecting to github.com (github.com)|140.82.118.4|:443... connected.\n",
            "HTTP request sent, awaiting response... 302 Found\n",
            "Location: https://raw.githubusercontent.com/leedavid/leela-chess-to-Chinese-Chess/master/lc0/ggzero [following]\n",
            "--2020-04-29 07:34:41--  https://raw.githubusercontent.com/leedavid/leela-chess-to-Chinese-Chess/master/lc0/ggzero\n",
            "Resolving raw.githubusercontent.com (raw.githubusercontent.com)... 151.101.0.133, 151.101.64.133, 151.101.128.133, ...\n",
            "Connecting to raw.githubusercontent.com (raw.githubusercontent.com)|151.101.0.133|:443... connected.\n",
            "HTTP request sent, awaiting response... 416 Range Not Satisfiable\n",
            "\n",
            "    The file is already fully retrieved; nothing to do.\n",
            "\n"
          ],
          "name": "stdout"
        }
      ]
    },
    {
      "cell_type": "code",
      "metadata": {
        "id": "bgOQFEx82_ae",
        "colab_type": "code",
        "colab": {
          "base_uri": "https://localhost:8080/",
          "height": 221
        },
        "outputId": "e4f6f7b6-d97c-4782-a859-bbebcf19b7e2"
      },
      "source": [
        "!wget -c https://github.com/leedavid/leela-chess-to-Chinese-Chess/raw/master/lc0/ggzero_linux"
      ],
      "execution_count": 5,
      "outputs": [
        {
          "output_type": "stream",
          "text": [
            "--2020-04-29 07:34:54--  https://github.com/leedavid/leela-chess-to-Chinese-Chess/raw/master/lc0/ggzero_linux\n",
            "Resolving github.com (github.com)... 140.82.118.4\n",
            "Connecting to github.com (github.com)|140.82.118.4|:443... connected.\n",
            "HTTP request sent, awaiting response... 302 Found\n",
            "Location: https://raw.githubusercontent.com/leedavid/leela-chess-to-Chinese-Chess/master/lc0/ggzero_linux [following]\n",
            "--2020-04-29 07:34:54--  https://raw.githubusercontent.com/leedavid/leela-chess-to-Chinese-Chess/master/lc0/ggzero_linux\n",
            "Resolving raw.githubusercontent.com (raw.githubusercontent.com)... 151.101.0.133, 151.101.64.133, 151.101.128.133, ...\n",
            "Connecting to raw.githubusercontent.com (raw.githubusercontent.com)|151.101.0.133|:443... connected.\n",
            "HTTP request sent, awaiting response... 416 Range Not Satisfiable\n",
            "\n",
            "    The file is already fully retrieved; nothing to do.\n",
            "\n"
          ],
          "name": "stdout"
        }
      ]
    },
    {
      "cell_type": "code",
      "metadata": {
        "id": "yh20GJe63CX7",
        "colab_type": "code",
        "colab": {}
      },
      "source": [
        "!chmod 777 ggzero"
      ],
      "execution_count": 0,
      "outputs": []
    },
    {
      "cell_type": "code",
      "metadata": {
        "id": "76EVI13L3Flk",
        "colab_type": "code",
        "colab": {}
      },
      "source": [
        "!chmod 777 ggzero_linux"
      ],
      "execution_count": 0,
      "outputs": []
    },
    {
      "cell_type": "code",
      "metadata": {
        "id": "TSdsVFnE3Huf",
        "colab_type": "code",
        "colab": {
          "base_uri": "https://localhost:8080/",
          "height": 1000
        },
        "outputId": "4f160ea9-37ef-49bc-f432-13414be925d6"
      },
      "source": [
        "!./ggzero_linux --user 'usopp' --password 'Aa123456' --lc0name 'ggzero'"
      ],
      "execution_count": 0,
      "outputs": [
        {
          "output_type": "stream",
          "text": [
            "GGZero 训练客户端版本 45\n",
            "2020/04/29 07:35:41 ggzero_train.go:1033: 服务器参数: [--visits=10000 --cpuct=1.32 --cpuct-at-root=1.9 --root-has-own-cpuct-params=true --resign-percentage=4.0 --resign-playthrough=25 --temperature=0.2 --temp-endgame=0.20 --temp-cutoff-move=40 --temp-visit-offset=-0.8 --fpu-strategy=reduction --fpu-value=0.23 --fpu-strategy-at-root=absolute --fpu-value-at-root=1.0 --minimum-kldgain-per-node=0.000040 --policy-softmax-temp=1.4 --resign-wdlstyle=true --noise-epsilon=0.1 --noise-alpha=0.12 --sticky-endgames=true --openings-pgn=books/tcec_merged_allpoints_book.pgn --openings-mode=shuffled --moves-left-max-effect=0.9 --moves-left-threshold=0.3 --moves-left-slope=0.009 --moves-left-quadratic-factor=1.0 --moves-left-constant-factor=0.0]\n",
            "正在下载权重中... 如果等待时间很长，请到群共享碰碰运气\n",
            "Args: [/content/ggzero selfplay --backend-opts=backend=cudnn-fp16 --parallelism=32 --visits=10000 --cpuct=1.32 --cpuct-at-root=1.9 --root-has-own-cpuct-params=true --resign-percentage=4.0 --resign-playthrough=25 --temperature=0.2 --temp-endgame=0.20 --temp-cutoff-move=40 --temp-visit-offset=-0.8 --fpu-strategy=reduction --fpu-value=0.23 --fpu-strategy-at-root=absolute --fpu-value-at-root=1.0 --minimum-kldgain-per-node=0.000040 --policy-softmax-temp=1.4 --resign-wdlstyle=true --noise-epsilon=0.1 --noise-alpha=0.12 --sticky-endgames=true --openings-pgn=books/tcec_merged_allpoints_book.pgn --openings-mode=shuffled --moves-left-max-effect=0.9 --moves-left-threshold=0.3 --moves-left-slope=0.009 --moves-left-quadratic-factor=1.0 --moves-left-constant-factor=0.0 --training=true --IsSaveTrainPgn=false --weights=client-cache/0a21ae1685c08e56fbcf4cd4a93f125919687ad494c1e10f20b840235521a5d4]\n",
            "\u001b[1m\u001b[31m\n",
            " _   _  _    _   _   _    \n",
            "|_  |_   /  |_  |   | |    \n",
            "|_| |_| /_  |_  |   |_|  \u001b[0m v0.88.1-DEV+MLH built Apr 24 2020 By Lee David \n",
            "\n",
            "\n",
            "\n",
            "id name GGZero v0.88.1-DEV+MLH\n",
            "id author Lee David\n",
            "Loading weights file from: client-cache/0a21ae1685c08e56fbcf4cd4a93f125919687ad494c1e10f20b840235521a5d4\n",
            "Creating backend [multiplexing]...\n",
            "Creating backend [cudnn-fp16]...\n",
            "Unhandled exception: No CUDA-capable devices detected\n",
            "2020/04/29 07:35:46 ggzero_train.go:798: BestMove channel closed unexpectedly, exiting train loop\n",
            "2020/04/29 07:35:46 ggzero_train.go:811: GameInfo channel closed, exiting train loop\n",
            "2020/04/29 07:35:46 ggzero_train.go:831: Waiting for ggzero to stop\n",
            "ggzero exited with: signal: aborted (core dumped)2020/04/29 07:35:46 ggzero_train.go:838: ggzero stopped\n",
            "2020/04/29 07:35:46 ggzero_train.go:841: Waiting for uploads to complete\n",
            "2020/04/29 07:35:46 ggzero_train.go:1262: Client self-exited without producing any games.\n",
            "2020/04/29 07:35:46 ggzero_train.go:1263:  出错了，请等待 30 秒重新尝试训练...\n",
            "2020/04/29 07:36:16 ggzero_train.go:1268: Token changed: 18259\n",
            "2020/04/29 07:36:17 ggzero_train.go:1033: 服务器参数: [--visits=10000 --cpuct=1.32 --cpuct-at-root=1.9 --root-has-own-cpuct-params=true --resign-percentage=4.0 --resign-playthrough=25 --temperature=0.2 --temp-endgame=0.20 --temp-cutoff-move=40 --temp-visit-offset=-0.8 --fpu-strategy=reduction --fpu-value=0.23 --fpu-strategy-at-root=absolute --fpu-value-at-root=1.0 --minimum-kldgain-per-node=0.000040 --policy-softmax-temp=1.4 --resign-wdlstyle=true --noise-epsilon=0.1 --noise-alpha=0.12 --sticky-endgames=true --openings-pgn=books/tcec_merged_allpoints_book.pgn --openings-mode=shuffled --moves-left-max-effect=0.9 --moves-left-threshold=0.3 --moves-left-slope=0.009 --moves-left-quadratic-factor=1.0 --moves-left-constant-factor=0.0]\n",
            "Args: [/content/ggzero selfplay --backend-opts=backend=cudnn-fp16 --parallelism=32 --visits=10000 --cpuct=1.32 --cpuct-at-root=1.9 --root-has-own-cpuct-params=true --resign-percentage=4.0 --resign-playthrough=25 --temperature=0.2 --temp-endgame=0.20 --temp-cutoff-move=40 --temp-visit-offset=-0.8 --fpu-strategy=reduction --fpu-value=0.23 --fpu-strategy-at-root=absolute --fpu-value-at-root=1.0 --minimum-kldgain-per-node=0.000040 --policy-softmax-temp=1.4 --resign-wdlstyle=true --noise-epsilon=0.1 --noise-alpha=0.12 --sticky-endgames=true --openings-pgn=books/tcec_merged_allpoints_book.pgn --openings-mode=shuffled --moves-left-max-effect=0.9 --moves-left-threshold=0.3 --moves-left-slope=0.009 --moves-left-quadratic-factor=1.0 --moves-left-constant-factor=0.0 --training=true --IsSaveTrainPgn=false --weights=client-cache/0a21ae1685c08e56fbcf4cd4a93f125919687ad494c1e10f20b840235521a5d4]\n",
            "\u001b[1m\u001b[31m\n",
            " _   _  _    _   _   _    \n",
            "|_  |_   /  |_  |   | |    \n",
            "|_| |_| /_  |_  |   |_|  \u001b[0m v0.88.1-DEV+MLH built Apr 24 2020 By Lee David \n",
            "\n",
            "\n",
            "\n",
            "id name GGZero v0.88.1-DEV+MLH\n",
            "id author Lee David\n",
            "Loading weights file from: client-cache/0a21ae1685c08e56fbcf4cd4a93f125919687ad494c1e10f20b840235521a5d4\n",
            "Creating backend [multiplexing]...\n",
            "Creating backend [cudnn-fp16]...\n",
            "Unhandled exception: No CUDA-capable devices detected\n",
            "2020/04/29 07:36:21 ggzero_train.go:798: BestMove channel closed unexpectedly, exiting train loop\n",
            "2020/04/29 07:36:21 ggzero_train.go:811: GameInfo channel closed, exiting train loop\n",
            "2020/04/29 07:36:21 ggzero_train.go:831: Waiting for ggzero to stop\n",
            "ggzero exited with: signal: aborted (core dumped)2020/04/29 07:36:21 ggzero_train.go:838: ggzero stopped\n",
            "2020/04/29 07:36:21 ggzero_train.go:841: Waiting for uploads to complete\n",
            "2020/04/29 07:36:21 ggzero_train.go:1262: Client self-exited without producing any games.\n",
            "2020/04/29 07:36:21 ggzero_train.go:1263:  出错了，请等待 30 秒重新尝试训练...\n",
            "2020/04/29 07:36:51 ggzero_train.go:1268: Token changed: 39442\n",
            "2020/04/29 07:36:51 ggzero_train.go:1033: 服务器参数: [--visits=10000 --cpuct=1.32 --cpuct-at-root=1.9 --root-has-own-cpuct-params=true --resign-percentage=4.0 --resign-playthrough=25 --temperature=0.2 --temp-endgame=0.20 --temp-cutoff-move=40 --temp-visit-offset=-0.8 --fpu-strategy=reduction --fpu-value=0.23 --fpu-strategy-at-root=absolute --fpu-value-at-root=1.0 --minimum-kldgain-per-node=0.000040 --policy-softmax-temp=1.4 --resign-wdlstyle=true --noise-epsilon=0.1 --noise-alpha=0.12 --sticky-endgames=true --openings-pgn=books/tcec_merged_allpoints_book.pgn --openings-mode=shuffled --moves-left-max-effect=0.9 --moves-left-threshold=0.3 --moves-left-slope=0.009 --moves-left-quadratic-factor=1.0 --moves-left-constant-factor=0.0]\n",
            "Args: [/content/ggzero selfplay --backend-opts=backend=cudnn-fp16 --parallelism=32 --visits=10000 --cpuct=1.32 --cpuct-at-root=1.9 --root-has-own-cpuct-params=true --resign-percentage=4.0 --resign-playthrough=25 --temperature=0.2 --temp-endgame=0.20 --temp-cutoff-move=40 --temp-visit-offset=-0.8 --fpu-strategy=reduction --fpu-value=0.23 --fpu-strategy-at-root=absolute --fpu-value-at-root=1.0 --minimum-kldgain-per-node=0.000040 --policy-softmax-temp=1.4 --resign-wdlstyle=true --noise-epsilon=0.1 --noise-alpha=0.12 --sticky-endgames=true --openings-pgn=books/tcec_merged_allpoints_book.pgn --openings-mode=shuffled --moves-left-max-effect=0.9 --moves-left-threshold=0.3 --moves-left-slope=0.009 --moves-left-quadratic-factor=1.0 --moves-left-constant-factor=0.0 --training=true --IsSaveTrainPgn=false --weights=client-cache/0a21ae1685c08e56fbcf4cd4a93f125919687ad494c1e10f20b840235521a5d4]\n",
            "\u001b[1m\u001b[31m\n",
            " _   _  _    _   _   _    \n",
            "|_  |_   /  |_  |   | |    \n",
            "|_| |_| /_  |_  |   |_|  \u001b[0m v0.88.1-DEV+MLH built Apr 24 2020 By Lee David \n",
            "\n",
            "\n",
            "\n",
            "id name GGZero v0.88.1-DEV+MLH\n",
            "id author Lee David\n",
            "Loading weights file from: client-cache/0a21ae1685c08e56fbcf4cd4a93f125919687ad494c1e10f20b840235521a5d4\n",
            "Creating backend [multiplexing]...\n",
            "Creating backend [cudnn-fp16]...\n",
            "Unhandled exception: No CUDA-capable devices detected\n",
            "2020/04/29 07:36:55 ggzero_train.go:798: BestMove channel closed unexpectedly, exiting train loop\n",
            "2020/04/29 07:36:55 ggzero_train.go:798: BestMove channel closed unexpectedly, exiting train loop\n",
            "2020/04/29 07:36:55 ggzero_train.go:811: GameInfo channel closed, exiting train loop\n",
            "2020/04/29 07:36:55 ggzero_train.go:831: Waiting for ggzero to stop\n",
            "ggzero exited with: signal: aborted (core dumped)2020/04/29 07:36:55 ggzero_train.go:838: ggzero stopped\n",
            "2020/04/29 07:36:55 ggzero_train.go:841: Waiting for uploads to complete\n",
            "2020/04/29 07:36:55 ggzero_train.go:1262: Client self-exited without producing any games.\n",
            "2020/04/29 07:36:55 ggzero_train.go:1263:  出错了，请等待 30 秒重新尝试训练...\n",
            "2020/04/29 07:37:25 ggzero_train.go:1268: Token changed: 59630\n",
            "2020/04/29 07:37:25 ggzero_train.go:1033: 服务器参数: [--visits=10000 --cpuct=1.32 --cpuct-at-root=1.9 --root-has-own-cpuct-params=true --resign-percentage=4.0 --resign-playthrough=25 --temperature=0.2 --temp-endgame=0.20 --temp-cutoff-move=40 --temp-visit-offset=-0.8 --fpu-strategy=reduction --fpu-value=0.23 --fpu-strategy-at-root=absolute --fpu-value-at-root=1.0 --minimum-kldgain-per-node=0.000040 --policy-softmax-temp=1.4 --resign-wdlstyle=true --noise-epsilon=0.1 --noise-alpha=0.12 --sticky-endgames=true --openings-pgn=books/tcec_merged_allpoints_book.pgn --openings-mode=shuffled --moves-left-max-effect=0.9 --moves-left-threshold=0.3 --moves-left-slope=0.009 --moves-left-quadratic-factor=1.0 --moves-left-constant-factor=0.0]\n",
            "Args: [/content/ggzero selfplay --backend-opts=backend=cudnn-fp16 --parallelism=32 --visits=10000 --cpuct=1.32 --cpuct-at-root=1.9 --root-has-own-cpuct-params=true --resign-percentage=4.0 --resign-playthrough=25 --temperature=0.2 --temp-endgame=0.20 --temp-cutoff-move=40 --temp-visit-offset=-0.8 --fpu-strategy=reduction --fpu-value=0.23 --fpu-strategy-at-root=absolute --fpu-value-at-root=1.0 --minimum-kldgain-per-node=0.000040 --policy-softmax-temp=1.4 --resign-wdlstyle=true --noise-epsilon=0.1 --noise-alpha=0.12 --sticky-endgames=true --openings-pgn=books/tcec_merged_allpoints_book.pgn --openings-mode=shuffled --moves-left-max-effect=0.9 --moves-left-threshold=0.3 --moves-left-slope=0.009 --moves-left-quadratic-factor=1.0 --moves-left-constant-factor=0.0 --training=true --IsSaveTrainPgn=false --weights=client-cache/0a21ae1685c08e56fbcf4cd4a93f125919687ad494c1e10f20b840235521a5d4]\n",
            "\u001b[1m\u001b[31m\n",
            " _   _  _    _   _   _    \n",
            "|_  |_   /  |_  |   | |    \n",
            "|_| |_| /_  |_  |   |_|  \u001b[0m v0.88.1-DEV+MLH built Apr 24 2020 By Lee David \n",
            "\n",
            "\n",
            "\n",
            "id name GGZero v0.88.1-DEV+MLH\n",
            "id author Lee David\n",
            "Loading weights file from: client-cache/0a21ae1685c08e56fbcf4cd4a93f125919687ad494c1e10f20b840235521a5d4\n",
            "Creating backend [multiplexing]...\n",
            "Creating backend [cudnn-fp16]...\n",
            "Unhandled exception: No CUDA-capable devices detected\n",
            "2020/04/29 07:37:29 ggzero_train.go:798: BestMove channel closed unexpectedly, exiting train loop\n",
            "2020/04/29 07:37:29 ggzero_train.go:798: BestMove channel closed unexpectedly, exiting train loop\n",
            "2020/04/29 07:37:29 ggzero_train.go:811: GameInfo channel closed, exiting train loop\n",
            "2020/04/29 07:37:29 ggzero_train.go:831: Waiting for ggzero to stop\n",
            "ggzero exited with: signal: aborted (core dumped)2020/04/29 07:37:29 ggzero_train.go:838: ggzero stopped\n",
            "2020/04/29 07:37:29 ggzero_train.go:841: Waiting for uploads to complete\n",
            "2020/04/29 07:37:29 ggzero_train.go:1262: Client self-exited without producing any games.\n",
            "2020/04/29 07:37:29 ggzero_train.go:1263:  出错了，请等待 30 秒重新尝试训练...\n"
          ],
          "name": "stdout"
        }
      ]
    }
  ]
}